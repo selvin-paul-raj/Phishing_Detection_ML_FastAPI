{
 "cells": [
  {
   "cell_type": "markdown",
   "metadata": {},
   "source": [
    "# Random Forest Classifier Model Training"
   ]
  },
  {
   "cell_type": "markdown",
   "metadata": {},
   "source": [
    "## Website Phishing Dataset\n",
    "\n",
    "This dataset is obtained from the UC Irvine Machine Learning Repository archive. According to this archive, the dataset provides valuable features for identifying potential phishing attempts https://archive.ics.uci.edu/dataset/379/website+phishing. \n",
    "\n",
    "According to that, the dataset was compiled by collecting URLs from a total of 1353 different websites. These phishing website URLs were collected from the PhishTank Data Archive, which is a free community site where users can submit, verify, track, and share phishing data. Legitimate websites were collected from Yahoo and origin directories using a web script developed in PHP.\n",
    "\n",
    "\n",
    "* **Dataset:** Website Phishing Dataset\n",
    "* **Content:** Data on various features of URLs to determine if they are legitimate, suspicious, or phishing\n",
    "* **Number of Rows:** 1353\n",
    "* **Number of Columns:** 10 (9 features + 1 class label)\n",
    "* **Distribution:** 548 legitimate URLs, 702 phishing URLs, 103 suspicious URLs\n",
    "\n",
    "### Features\n",
    "\n",
    "| Feature | Description | Example |\n",
    "|---------|-------------|---------|\n",
    "| **SFH** | Where the website's form data is submitted to | Legitimate: form action=\"same-domain.com/submit\" <br> Phishing: form action=\"different-domain.com/collect\" |\n",
    "| **popUpWindow** | Whether the website has popup windows | Legitimate: No popups on banking.com <br> Phishing: Multiple popups on banking-secure-verify.com |\n",
    "| **SSLfinal_State** | Status of the SSL certificate | Legitimate: https://amazon.com (valid certificate) <br> Phishing: http://amaz0n-account-verify.com (no HTTPS) |\n",
    "| **Request_URL** | Where images and other resources are loaded from | Legitimate: Images loaded from facebook.com on facebook.com <br> Phishing: Images from facebook.com on faceb00k-login.com |\n",
    "| **URL_of_Anchor** | Where links on the page point to | Legitimate: Links on paypal.com point to paypal.com <br> Phishing: Links on paypa1.com point to different domains |\n",
    "| **web_traffic** | How popular the website is | Legitimate: High traffic on twitter.com <br> Phishing: Very low traffic on twltter-verify.com |\n",
    "| **URL_Length** | How long the URL is | Legitimate: google.com <br> Phishing: google-account-verify-secure-login-session-confirm.com |\n",
    "| **age_of_domain** | How old the domain is | Legitimate: microsoft.com (registered decades ago) <br> Phishing: microsoft-update-security.com (registered last week) |\n",
    "| **having_IP_Address** | If the URL uses an IP address instead of a domain name | Legitimate: netflix.com <br> Phishing: http://192.168.1.1/netflix/ |\n",
    "| **Result** | The classification of the URL | Legitimate (1): amazon.com <br> Suspicious (0): amazon-offers2023.com <br> Phishing (-1): amaz0n-login-secure.com |\n"
   ]
  },
  {
   "cell_type": "markdown",
   "metadata": {},
   "source": [
    "## Impor libraries"
   ]
  },
  {
   "cell_type": "code",
   "execution_count": 1,
   "metadata": {
    "execution": {
     "iopub.execute_input": "2025-04-13T13:54:33.889303Z",
     "iopub.status.busy": "2025-04-13T13:54:33.888975Z",
     "iopub.status.idle": "2025-04-13T13:54:36.501416Z",
     "shell.execute_reply": "2025-04-13T13:54:36.500369Z",
     "shell.execute_reply.started": "2025-04-13T13:54:33.889268Z"
    },
    "trusted": true
   },
   "outputs": [],
   "source": [
    "import numpy as np \n",
    "import pandas as pd \n",
    "import seaborn as sns\n",
    "import matplotlib.pyplot as plt"
   ]
  },
  {
   "cell_type": "markdown",
   "metadata": {},
   "source": [
    "## Load Data"
   ]
  },
  {
   "cell_type": "code",
   "execution_count": 2,
   "metadata": {
    "execution": {
     "iopub.execute_input": "2025-04-13T13:54:53.697471Z",
     "iopub.status.busy": "2025-04-13T13:54:53.697155Z",
     "iopub.status.idle": "2025-04-13T13:54:53.759562Z",
     "shell.execute_reply": "2025-04-13T13:54:53.758686Z",
     "shell.execute_reply.started": "2025-04-13T13:54:53.697447Z"
    },
    "trusted": true
   },
   "outputs": [
    {
     "name": "stdout",
     "output_type": "stream",
     "text": [
      "Data shape (rows, columns): (1353, 10)\n",
      "Number of duplicate rows: 629\n",
      "Number of missing values: 0\n",
      "\n",
      "<class 'pandas.core.frame.DataFrame'>\n",
      "RangeIndex: 1353 entries, 0 to 1352\n",
      "Data columns (total 10 columns):\n",
      " #   Column             Non-Null Count  Dtype\n",
      "---  ------             --------------  -----\n",
      " 0   sfh                1353 non-null   int64\n",
      " 1   popupwidnow        1353 non-null   int64\n",
      " 2   sslfinal_state     1353 non-null   int64\n",
      " 3   request_url        1353 non-null   int64\n",
      " 4   url_of_anchor      1353 non-null   int64\n",
      " 5   web_traffic        1353 non-null   int64\n",
      " 6   url_length         1353 non-null   int64\n",
      " 7   age_of_domain      1353 non-null   int64\n",
      " 8   having_ip_address  1353 non-null   int64\n",
      " 9   result             1353 non-null   int64\n",
      "dtypes: int64(10)\n",
      "memory usage: 105.8 KB\n"
     ]
    },
    {
     "data": {
      "text/html": [
       "<div>\n",
       "<style scoped>\n",
       "    .dataframe tbody tr th:only-of-type {\n",
       "        vertical-align: middle;\n",
       "    }\n",
       "\n",
       "    .dataframe tbody tr th {\n",
       "        vertical-align: top;\n",
       "    }\n",
       "\n",
       "    .dataframe thead th {\n",
       "        text-align: right;\n",
       "    }\n",
       "</style>\n",
       "<table border=\"1\" class=\"dataframe\">\n",
       "  <thead>\n",
       "    <tr style=\"text-align: right;\">\n",
       "      <th></th>\n",
       "      <th>sfh</th>\n",
       "      <th>popupwidnow</th>\n",
       "      <th>sslfinal_state</th>\n",
       "      <th>request_url</th>\n",
       "      <th>url_of_anchor</th>\n",
       "      <th>web_traffic</th>\n",
       "      <th>url_length</th>\n",
       "      <th>age_of_domain</th>\n",
       "      <th>having_ip_address</th>\n",
       "      <th>result</th>\n",
       "    </tr>\n",
       "  </thead>\n",
       "  <tbody>\n",
       "    <tr>\n",
       "      <th>0</th>\n",
       "      <td>1</td>\n",
       "      <td>-1</td>\n",
       "      <td>1</td>\n",
       "      <td>-1</td>\n",
       "      <td>-1</td>\n",
       "      <td>1</td>\n",
       "      <td>1</td>\n",
       "      <td>1</td>\n",
       "      <td>0</td>\n",
       "      <td>0</td>\n",
       "    </tr>\n",
       "    <tr>\n",
       "      <th>1</th>\n",
       "      <td>-1</td>\n",
       "      <td>-1</td>\n",
       "      <td>-1</td>\n",
       "      <td>-1</td>\n",
       "      <td>-1</td>\n",
       "      <td>0</td>\n",
       "      <td>1</td>\n",
       "      <td>1</td>\n",
       "      <td>1</td>\n",
       "      <td>1</td>\n",
       "    </tr>\n",
       "    <tr>\n",
       "      <th>2</th>\n",
       "      <td>1</td>\n",
       "      <td>-1</td>\n",
       "      <td>0</td>\n",
       "      <td>0</td>\n",
       "      <td>-1</td>\n",
       "      <td>0</td>\n",
       "      <td>-1</td>\n",
       "      <td>1</td>\n",
       "      <td>0</td>\n",
       "      <td>1</td>\n",
       "    </tr>\n",
       "    <tr>\n",
       "      <th>3</th>\n",
       "      <td>1</td>\n",
       "      <td>0</td>\n",
       "      <td>1</td>\n",
       "      <td>-1</td>\n",
       "      <td>-1</td>\n",
       "      <td>0</td>\n",
       "      <td>1</td>\n",
       "      <td>1</td>\n",
       "      <td>0</td>\n",
       "      <td>0</td>\n",
       "    </tr>\n",
       "    <tr>\n",
       "      <th>4</th>\n",
       "      <td>-1</td>\n",
       "      <td>-1</td>\n",
       "      <td>1</td>\n",
       "      <td>-1</td>\n",
       "      <td>0</td>\n",
       "      <td>0</td>\n",
       "      <td>-1</td>\n",
       "      <td>1</td>\n",
       "      <td>0</td>\n",
       "      <td>1</td>\n",
       "    </tr>\n",
       "  </tbody>\n",
       "</table>\n",
       "</div>"
      ],
      "text/plain": [
       "   sfh  popupwidnow  sslfinal_state  request_url  url_of_anchor  web_traffic  \\\n",
       "0    1           -1               1           -1             -1            1   \n",
       "1   -1           -1              -1           -1             -1            0   \n",
       "2    1           -1               0            0             -1            0   \n",
       "3    1            0               1           -1             -1            0   \n",
       "4   -1           -1               1           -1              0            0   \n",
       "\n",
       "   url_length  age_of_domain  having_ip_address  result  \n",
       "0           1              1                  0       0  \n",
       "1           1              1                  1       1  \n",
       "2          -1              1                  0       1  \n",
       "3           1              1                  0       0  \n",
       "4          -1              1                  0       1  "
      ]
     },
     "execution_count": 2,
     "metadata": {},
     "output_type": "execute_result"
    }
   ],
   "source": [
    "df = pd.read_csv(\"../data/Website Phishing.csv\")\n",
    "df.columns = df.columns.str.lower()\n",
    "\n",
    "print(f'Data shape (rows, columns): {df.shape}')\n",
    "print(f'Number of duplicate rows: {df.duplicated().sum()}')\n",
    "print(f'Number of missing values: {df.isnull().sum().sum()}\\n')\n",
    "\n",
    "df.info()\n",
    "df.head()"
   ]
  },
  {
   "cell_type": "code",
   "execution_count": 3,
   "metadata": {
    "execution": {
     "iopub.execute_input": "2025-04-13T13:54:59.463138Z",
     "iopub.status.busy": "2025-04-13T13:54:59.462626Z",
     "iopub.status.idle": "2025-04-13T13:54:59.512513Z",
     "shell.execute_reply": "2025-04-13T13:54:59.511336Z",
     "shell.execute_reply.started": "2025-04-13T13:54:59.463093Z"
    },
    "trusted": true
   },
   "outputs": [
    {
     "data": {
      "text/html": [
       "<div>\n",
       "<style scoped>\n",
       "    .dataframe tbody tr th:only-of-type {\n",
       "        vertical-align: middle;\n",
       "    }\n",
       "\n",
       "    .dataframe tbody tr th {\n",
       "        vertical-align: top;\n",
       "    }\n",
       "\n",
       "    .dataframe thead th {\n",
       "        text-align: right;\n",
       "    }\n",
       "</style>\n",
       "<table border=\"1\" class=\"dataframe\">\n",
       "  <thead>\n",
       "    <tr style=\"text-align: right;\">\n",
       "      <th></th>\n",
       "      <th>count</th>\n",
       "      <th>mean</th>\n",
       "      <th>std</th>\n",
       "      <th>min</th>\n",
       "      <th>25%</th>\n",
       "      <th>50%</th>\n",
       "      <th>75%</th>\n",
       "      <th>max</th>\n",
       "    </tr>\n",
       "  </thead>\n",
       "  <tbody>\n",
       "    <tr>\n",
       "      <th>sfh</th>\n",
       "      <td>1353.0</td>\n",
       "      <td>0.237990</td>\n",
       "      <td>0.916389</td>\n",
       "      <td>-1.0</td>\n",
       "      <td>-1.0</td>\n",
       "      <td>1.0</td>\n",
       "      <td>1.0</td>\n",
       "      <td>1.0</td>\n",
       "    </tr>\n",
       "    <tr>\n",
       "      <th>popupwidnow</th>\n",
       "      <td>1353.0</td>\n",
       "      <td>-0.258684</td>\n",
       "      <td>0.679072</td>\n",
       "      <td>-1.0</td>\n",
       "      <td>-1.0</td>\n",
       "      <td>0.0</td>\n",
       "      <td>0.0</td>\n",
       "      <td>1.0</td>\n",
       "    </tr>\n",
       "    <tr>\n",
       "      <th>sslfinal_state</th>\n",
       "      <td>1353.0</td>\n",
       "      <td>0.327421</td>\n",
       "      <td>0.822193</td>\n",
       "      <td>-1.0</td>\n",
       "      <td>0.0</td>\n",
       "      <td>1.0</td>\n",
       "      <td>1.0</td>\n",
       "      <td>1.0</td>\n",
       "    </tr>\n",
       "    <tr>\n",
       "      <th>request_url</th>\n",
       "      <td>1353.0</td>\n",
       "      <td>-0.223208</td>\n",
       "      <td>0.799682</td>\n",
       "      <td>-1.0</td>\n",
       "      <td>-1.0</td>\n",
       "      <td>0.0</td>\n",
       "      <td>0.0</td>\n",
       "      <td>1.0</td>\n",
       "    </tr>\n",
       "    <tr>\n",
       "      <th>url_of_anchor</th>\n",
       "      <td>1353.0</td>\n",
       "      <td>-0.025129</td>\n",
       "      <td>0.936262</td>\n",
       "      <td>-1.0</td>\n",
       "      <td>-1.0</td>\n",
       "      <td>0.0</td>\n",
       "      <td>1.0</td>\n",
       "      <td>1.0</td>\n",
       "    </tr>\n",
       "    <tr>\n",
       "      <th>web_traffic</th>\n",
       "      <td>1353.0</td>\n",
       "      <td>0.000000</td>\n",
       "      <td>0.806776</td>\n",
       "      <td>-1.0</td>\n",
       "      <td>-1.0</td>\n",
       "      <td>0.0</td>\n",
       "      <td>1.0</td>\n",
       "      <td>1.0</td>\n",
       "    </tr>\n",
       "    <tr>\n",
       "      <th>url_length</th>\n",
       "      <td>1353.0</td>\n",
       "      <td>-0.053215</td>\n",
       "      <td>0.762552</td>\n",
       "      <td>-1.0</td>\n",
       "      <td>-1.0</td>\n",
       "      <td>0.0</td>\n",
       "      <td>1.0</td>\n",
       "      <td>1.0</td>\n",
       "    </tr>\n",
       "    <tr>\n",
       "      <th>age_of_domain</th>\n",
       "      <td>1353.0</td>\n",
       "      <td>0.219512</td>\n",
       "      <td>0.975970</td>\n",
       "      <td>-1.0</td>\n",
       "      <td>-1.0</td>\n",
       "      <td>1.0</td>\n",
       "      <td>1.0</td>\n",
       "      <td>1.0</td>\n",
       "    </tr>\n",
       "    <tr>\n",
       "      <th>having_ip_address</th>\n",
       "      <td>1353.0</td>\n",
       "      <td>0.114560</td>\n",
       "      <td>0.318608</td>\n",
       "      <td>0.0</td>\n",
       "      <td>0.0</td>\n",
       "      <td>0.0</td>\n",
       "      <td>0.0</td>\n",
       "      <td>1.0</td>\n",
       "    </tr>\n",
       "    <tr>\n",
       "      <th>result</th>\n",
       "      <td>1353.0</td>\n",
       "      <td>-0.113821</td>\n",
       "      <td>0.954773</td>\n",
       "      <td>-1.0</td>\n",
       "      <td>-1.0</td>\n",
       "      <td>-1.0</td>\n",
       "      <td>1.0</td>\n",
       "      <td>1.0</td>\n",
       "    </tr>\n",
       "  </tbody>\n",
       "</table>\n",
       "</div>"
      ],
      "text/plain": [
       "                    count      mean       std  min  25%  50%  75%  max\n",
       "sfh                1353.0  0.237990  0.916389 -1.0 -1.0  1.0  1.0  1.0\n",
       "popupwidnow        1353.0 -0.258684  0.679072 -1.0 -1.0  0.0  0.0  1.0\n",
       "sslfinal_state     1353.0  0.327421  0.822193 -1.0  0.0  1.0  1.0  1.0\n",
       "request_url        1353.0 -0.223208  0.799682 -1.0 -1.0  0.0  0.0  1.0\n",
       "url_of_anchor      1353.0 -0.025129  0.936262 -1.0 -1.0  0.0  1.0  1.0\n",
       "web_traffic        1353.0  0.000000  0.806776 -1.0 -1.0  0.0  1.0  1.0\n",
       "url_length         1353.0 -0.053215  0.762552 -1.0 -1.0  0.0  1.0  1.0\n",
       "age_of_domain      1353.0  0.219512  0.975970 -1.0 -1.0  1.0  1.0  1.0\n",
       "having_ip_address  1353.0  0.114560  0.318608  0.0  0.0  0.0  0.0  1.0\n",
       "result             1353.0 -0.113821  0.954773 -1.0 -1.0 -1.0  1.0  1.0"
      ]
     },
     "execution_count": 3,
     "metadata": {},
     "output_type": "execute_result"
    }
   ],
   "source": [
    "# Basic statistics \n",
    "df.describe().T"
   ]
  },
  {
   "cell_type": "code",
   "execution_count": 4,
   "metadata": {
    "execution": {
     "iopub.execute_input": "2025-04-13T13:55:02.268156Z",
     "iopub.status.busy": "2025-04-13T13:55:02.267723Z",
     "iopub.status.idle": "2025-04-13T13:55:02.297865Z",
     "shell.execute_reply": "2025-04-13T13:55:02.296745Z",
     "shell.execute_reply.started": "2025-04-13T13:55:02.268123Z"
    },
    "trusted": true
   },
   "outputs": [
    {
     "name": "stdout",
     "output_type": "stream",
     "text": [
      "___________________________\n",
      "Data Types:\n",
      "Dtype\n",
      "int64    10\n",
      "Name: count, dtype: int64\n",
      "___________________________\n",
      "Numreical Features Summary:\n"
     ]
    },
    {
     "data": {
      "text/html": [
       "<div>\n",
       "<style scoped>\n",
       "    .dataframe tbody tr th:only-of-type {\n",
       "        vertical-align: middle;\n",
       "    }\n",
       "\n",
       "    .dataframe tbody tr th {\n",
       "        vertical-align: top;\n",
       "    }\n",
       "\n",
       "    .dataframe thead th {\n",
       "        text-align: right;\n",
       "    }\n",
       "</style>\n",
       "<table border=\"1\" class=\"dataframe\">\n",
       "  <thead>\n",
       "    <tr style=\"text-align: right;\">\n",
       "      <th></th>\n",
       "      <th>Dtype</th>\n",
       "      <th>Counts</th>\n",
       "      <th>Nulls</th>\n",
       "      <th>NullPercent</th>\n",
       "      <th>Min</th>\n",
       "      <th>Max</th>\n",
       "      <th>Uniques</th>\n",
       "      <th>UniqueValues</th>\n",
       "    </tr>\n",
       "  </thead>\n",
       "  <tbody>\n",
       "    <tr>\n",
       "      <th>sfh</th>\n",
       "      <td>int64</td>\n",
       "      <td>1353</td>\n",
       "      <td>0</td>\n",
       "      <td>0.0</td>\n",
       "      <td>-1</td>\n",
       "      <td>1</td>\n",
       "      <td>3</td>\n",
       "      <td>[1, -1, 0]</td>\n",
       "    </tr>\n",
       "    <tr>\n",
       "      <th>popupwidnow</th>\n",
       "      <td>int64</td>\n",
       "      <td>1353</td>\n",
       "      <td>0</td>\n",
       "      <td>0.0</td>\n",
       "      <td>-1</td>\n",
       "      <td>1</td>\n",
       "      <td>3</td>\n",
       "      <td>[-1, 0, 1]</td>\n",
       "    </tr>\n",
       "    <tr>\n",
       "      <th>sslfinal_state</th>\n",
       "      <td>int64</td>\n",
       "      <td>1353</td>\n",
       "      <td>0</td>\n",
       "      <td>0.0</td>\n",
       "      <td>-1</td>\n",
       "      <td>1</td>\n",
       "      <td>3</td>\n",
       "      <td>[1, -1, 0]</td>\n",
       "    </tr>\n",
       "    <tr>\n",
       "      <th>request_url</th>\n",
       "      <td>int64</td>\n",
       "      <td>1353</td>\n",
       "      <td>0</td>\n",
       "      <td>0.0</td>\n",
       "      <td>-1</td>\n",
       "      <td>1</td>\n",
       "      <td>3</td>\n",
       "      <td>[-1, 0, 1]</td>\n",
       "    </tr>\n",
       "    <tr>\n",
       "      <th>url_of_anchor</th>\n",
       "      <td>int64</td>\n",
       "      <td>1353</td>\n",
       "      <td>0</td>\n",
       "      <td>0.0</td>\n",
       "      <td>-1</td>\n",
       "      <td>1</td>\n",
       "      <td>3</td>\n",
       "      <td>[-1, 0, 1]</td>\n",
       "    </tr>\n",
       "    <tr>\n",
       "      <th>web_traffic</th>\n",
       "      <td>int64</td>\n",
       "      <td>1353</td>\n",
       "      <td>0</td>\n",
       "      <td>0.0</td>\n",
       "      <td>-1</td>\n",
       "      <td>1</td>\n",
       "      <td>3</td>\n",
       "      <td>[1, 0, -1]</td>\n",
       "    </tr>\n",
       "    <tr>\n",
       "      <th>url_length</th>\n",
       "      <td>int64</td>\n",
       "      <td>1353</td>\n",
       "      <td>0</td>\n",
       "      <td>0.0</td>\n",
       "      <td>-1</td>\n",
       "      <td>1</td>\n",
       "      <td>3</td>\n",
       "      <td>[1, -1, 0]</td>\n",
       "    </tr>\n",
       "    <tr>\n",
       "      <th>age_of_domain</th>\n",
       "      <td>int64</td>\n",
       "      <td>1353</td>\n",
       "      <td>0</td>\n",
       "      <td>0.0</td>\n",
       "      <td>-1</td>\n",
       "      <td>1</td>\n",
       "      <td>2</td>\n",
       "      <td>[1, -1]</td>\n",
       "    </tr>\n",
       "    <tr>\n",
       "      <th>having_ip_address</th>\n",
       "      <td>int64</td>\n",
       "      <td>1353</td>\n",
       "      <td>0</td>\n",
       "      <td>0.0</td>\n",
       "      <td>0</td>\n",
       "      <td>1</td>\n",
       "      <td>2</td>\n",
       "      <td>[0, 1]</td>\n",
       "    </tr>\n",
       "    <tr>\n",
       "      <th>result</th>\n",
       "      <td>int64</td>\n",
       "      <td>1353</td>\n",
       "      <td>0</td>\n",
       "      <td>0.0</td>\n",
       "      <td>-1</td>\n",
       "      <td>1</td>\n",
       "      <td>3</td>\n",
       "      <td>[0, 1, -1]</td>\n",
       "    </tr>\n",
       "  </tbody>\n",
       "</table>\n",
       "</div>"
      ],
      "text/plain": [
       "                   Dtype  Counts  Nulls  NullPercent  Min  Max  Uniques  \\\n",
       "sfh                int64    1353      0          0.0   -1    1        3   \n",
       "popupwidnow        int64    1353      0          0.0   -1    1        3   \n",
       "sslfinal_state     int64    1353      0          0.0   -1    1        3   \n",
       "request_url        int64    1353      0          0.0   -1    1        3   \n",
       "url_of_anchor      int64    1353      0          0.0   -1    1        3   \n",
       "web_traffic        int64    1353      0          0.0   -1    1        3   \n",
       "url_length         int64    1353      0          0.0   -1    1        3   \n",
       "age_of_domain      int64    1353      0          0.0   -1    1        2   \n",
       "having_ip_address  int64    1353      0          0.0    0    1        2   \n",
       "result             int64    1353      0          0.0   -1    1        3   \n",
       "\n",
       "                  UniqueValues  \n",
       "sfh                 [1, -1, 0]  \n",
       "popupwidnow         [-1, 0, 1]  \n",
       "sslfinal_state      [1, -1, 0]  \n",
       "request_url         [-1, 0, 1]  \n",
       "url_of_anchor       [-1, 0, 1]  \n",
       "web_traffic         [1, 0, -1]  \n",
       "url_length          [1, -1, 0]  \n",
       "age_of_domain          [1, -1]  \n",
       "having_ip_address       [0, 1]  \n",
       "result              [0, 1, -1]  "
      ]
     },
     "execution_count": 4,
     "metadata": {},
     "output_type": "execute_result"
    }
   ],
   "source": [
    "# Summary of Numeric Features \n",
    "\n",
    "def numeric_summary(df):\n",
    "    obs = df.shape[0]\n",
    "    \n",
    "    numeric_df = df.select_dtypes(include='number')\n",
    "    summary_df = pd.DataFrame({\n",
    "        'Dtype': numeric_df.dtypes, \n",
    "        'Counts': numeric_df.apply(lambda x: x.count()), \n",
    "        'Nulls': numeric_df.apply(lambda x: x.isnull().sum()), \n",
    "        'NullPercent': (numeric_df.isnull().sum() / obs) * 100,\n",
    "        'Min': numeric_df.min(),\n",
    "        'Max': numeric_df.max(),\n",
    "        'Uniques': numeric_df.apply(lambda x: x.unique().shape[0]),\n",
    "        'UniqueValues': numeric_df.apply(lambda x: list(x.unique()) if x.nunique() <= 10 else '-')\n",
    "    })\n",
    "    \n",
    "    print('___________________________\\nData Types:')\n",
    "    print(summary_df['Dtype'].value_counts())\n",
    "    print('___________________________')\n",
    "    print('Numreical Features Summary:')\n",
    "    \n",
    "    return summary_df\n",
    "\n",
    "\n",
    "numeric_summary(df)"
   ]
  },
  {
   "cell_type": "code",
   "execution_count": 6,
   "metadata": {
    "execution": {
     "iopub.execute_input": "2025-04-13T13:55:11.128236Z",
     "iopub.status.busy": "2025-04-13T13:55:11.127879Z",
     "iopub.status.idle": "2025-04-13T13:55:11.133523Z",
     "shell.execute_reply": "2025-04-13T13:55:11.132436Z",
     "shell.execute_reply.started": "2025-04-13T13:55:11.128210Z"
    },
    "trusted": true
   },
   "outputs": [],
   "source": [
    "# User defined fonction for counting and percentage values in the each column\n",
    "\n",
    "def get_value_count(df, column_name):\n",
    "    vc = df[column_name].value_counts()\n",
    "    vc_norm = df[column_name].value_counts(normalize=True)\n",
    "\n",
    "    vc = vc.rename_axis(column_name).reset_index(name='counts')\n",
    "    vc_norm = vc_norm.rename_axis(column_name).reset_index(name='percent')\n",
    "\n",
    "    df_result = pd.concat([vc[column_name], vc['counts'], vc_norm['percent']], axis=1)\n",
    "    \n",
    "    return df_result"
   ]
  },
  {
   "cell_type": "markdown",
   "metadata": {},
   "source": [
    "## Distributions of the Target Feature: `Result` \n",
    "\n",
    "-  1: Legitimate\n",
    "-  0: Suspicious\n",
    "- -1: Phishing"
   ]
  },
  {
   "cell_type": "code",
   "execution_count": 7,
   "metadata": {
    "execution": {
     "iopub.execute_input": "2025-04-13T13:55:14.400314Z",
     "iopub.status.busy": "2025-04-13T13:55:14.399987Z",
     "iopub.status.idle": "2025-04-13T13:55:14.414330Z",
     "shell.execute_reply": "2025-04-13T13:55:14.413212Z",
     "shell.execute_reply.started": "2025-04-13T13:55:14.400288Z"
    },
    "trusted": true
   },
   "outputs": [
    {
     "data": {
      "text/html": [
       "<div>\n",
       "<style scoped>\n",
       "    .dataframe tbody tr th:only-of-type {\n",
       "        vertical-align: middle;\n",
       "    }\n",
       "\n",
       "    .dataframe tbody tr th {\n",
       "        vertical-align: top;\n",
       "    }\n",
       "\n",
       "    .dataframe thead th {\n",
       "        text-align: right;\n",
       "    }\n",
       "</style>\n",
       "<table border=\"1\" class=\"dataframe\">\n",
       "  <thead>\n",
       "    <tr style=\"text-align: right;\">\n",
       "      <th></th>\n",
       "      <th>result</th>\n",
       "      <th>counts</th>\n",
       "      <th>percent</th>\n",
       "    </tr>\n",
       "  </thead>\n",
       "  <tbody>\n",
       "    <tr>\n",
       "      <th>0</th>\n",
       "      <td>-1</td>\n",
       "      <td>702</td>\n",
       "      <td>0.518847</td>\n",
       "    </tr>\n",
       "    <tr>\n",
       "      <th>1</th>\n",
       "      <td>1</td>\n",
       "      <td>548</td>\n",
       "      <td>0.405026</td>\n",
       "    </tr>\n",
       "    <tr>\n",
       "      <th>2</th>\n",
       "      <td>0</td>\n",
       "      <td>103</td>\n",
       "      <td>0.076127</td>\n",
       "    </tr>\n",
       "  </tbody>\n",
       "</table>\n",
       "</div>"
      ],
      "text/plain": [
       "   result  counts   percent\n",
       "0      -1     702  0.518847\n",
       "1       1     548  0.405026\n",
       "2       0     103  0.076127"
      ]
     },
     "execution_count": 7,
     "metadata": {},
     "output_type": "execute_result"
    }
   ],
   "source": [
    "get_value_count(df, 'result') \n",
    "\n",
    "# Total Number of values and percentage "
   ]
  },
  {
   "cell_type": "code",
   "execution_count": 8,
   "metadata": {
    "execution": {
     "iopub.execute_input": "2025-04-13T13:55:16.273811Z",
     "iopub.status.busy": "2025-04-13T13:55:16.273349Z",
     "iopub.status.idle": "2025-04-13T13:55:16.533903Z",
     "shell.execute_reply": "2025-04-13T13:55:16.532869Z",
     "shell.execute_reply.started": "2025-04-13T13:55:16.273772Z"
    },
    "trusted": true
   },
   "outputs": [
    {
     "data": {
      "image/png": "[encoded data removed]",
      "text/plain": [
       "<Figure size 500x400 with 1 Axes>"
      ]
     },
     "metadata": {},
     "output_type": "display_data"
    }
   ],
   "source": [
    "plt.figure(figsize=(5,4))\n",
    "ax = sns.countplot( data=df, x=\"result\", palette='Blues')\n",
    "\n",
    "ax.bar_label(ax.containers[0])\n",
    "ax.set_title('Total Number of Classes in the Result Column', size = 10);\n",
    "plt.show()"
   ]
  },
  {
   "cell_type": "markdown",
   "metadata": {},
   "source": [
    "### Converting Phishing (-1) to Suspicious (0)  \n",
    "\n",
    "**NOTES!!**:\n",
    "\n",
    "- The Suspicious (0) class has a very low number of values\n",
    "- To mitigate this risk, we will merge the Suspicious (0) class with the Phishing (-1) class\n",
    "- So we will have only 2 classes:\n",
    "    - Legitimate URLs (1) (Good)\n",
    "    - Phishing URLs (0) (Bad)\n",
    "\n",
    "- The other feature columns were kept in their original form [-1, 0, 1 values] to preserve their semantic meaning and the model's learning capacity.\n",
    "- Converting these feature columns would have resulted in the loss of important information since each value represents specific conditions that help the model make better distinctions between legitimate and phishing URLs."
   ]
  },
  {
   "cell_type": "code",
   "execution_count": 20,
   "metadata": {
    "execution": {
     "iopub.execute_input": "2025-04-13T14:02:06.207375Z",
     "iopub.status.busy": "2025-04-13T14:02:06.206651Z",
     "iopub.status.idle": "2025-04-13T14:02:06.224359Z",
     "shell.execute_reply": "2025-04-13T14:02:06.223364Z",
     "shell.execute_reply.started": "2025-04-13T14:02:06.207339Z"
    },
    "trusted": true
   },
   "outputs": [
    {
     "data": {
      "text/html": [
       "<div>\n",
       "<style scoped>\n",
       "    .dataframe tbody tr th:only-of-type {\n",
       "        vertical-align: middle;\n",
       "    }\n",
       "\n",
       "    .dataframe tbody tr th {\n",
       "        vertical-align: top;\n",
       "    }\n",
       "\n",
       "    .dataframe thead th {\n",
       "        text-align: right;\n",
       "    }\n",
       "</style>\n",
       "<table border=\"1\" class=\"dataframe\">\n",
       "  <thead>\n",
       "    <tr style=\"text-align: right;\">\n",
       "      <th></th>\n",
       "      <th>result</th>\n",
       "      <th>counts</th>\n",
       "      <th>percent</th>\n",
       "    </tr>\n",
       "  </thead>\n",
       "  <tbody>\n",
       "    <tr>\n",
       "      <th>0</th>\n",
       "      <td>0</td>\n",
       "      <td>805</td>\n",
       "      <td>0.594974</td>\n",
       "    </tr>\n",
       "    <tr>\n",
       "      <th>1</th>\n",
       "      <td>1</td>\n",
       "      <td>548</td>\n",
       "      <td>0.405026</td>\n",
       "    </tr>\n",
       "  </tbody>\n",
       "</table>\n",
       "</div>"
      ],
      "text/plain": [
       "   result  counts   percent\n",
       "0       0     805  0.594974\n",
       "1       1     548  0.405026"
      ]
     },
     "execution_count": 20,
     "metadata": {},
     "output_type": "execute_result"
    }
   ],
   "source": [
    "# replace Suspicious (0) values with Phishing (-1) in the \"Result columns\"\n",
    "\n",
    "df['result'] = df['result'].replace(-1, 0)\n",
    "\n",
    "get_value_count(df, 'result') "
   ]
  },
  {
   "cell_type": "code",
   "execution_count": 21,
   "metadata": {
    "execution": {
     "iopub.execute_input": "2025-04-13T14:02:08.621035Z",
     "iopub.status.busy": "2025-04-13T14:02:08.620655Z",
     "iopub.status.idle": "2025-04-13T14:02:08.860198Z",
     "shell.execute_reply": "2025-04-13T14:02:08.859058Z",
     "shell.execute_reply.started": "2025-04-13T14:02:08.620995Z"
    },
    "trusted": true
   },
   "outputs": [
    {
     "data": {
      "image/png": "[encoded data removed]",
      "text/plain": [
       "<Figure size 500x400 with 1 Axes>"
      ]
     },
     "metadata": {},
     "output_type": "display_data"
    }
   ],
   "source": [
    "plt.figure(figsize=(5,4))\n",
    "ax = sns.countplot( data=df, x=\"result\", palette='Blues')\n",
    "\n",
    "ax.bar_label(ax.containers[0])\n",
    "ax.set_title('Total Number of Classes: Legitimate(1) and Phishing(0)', size = 12);\n",
    "plt.show()"
   ]
  },
  {
   "cell_type": "markdown",
   "metadata": {},
   "source": [
    "## Model Development"
   ]
  },
  {
   "cell_type": "code",
   "execution_count": null,
   "metadata": {
    "trusted": true
   },
   "outputs": [],
   "source": [
    "#!pip install scikit-learn lightgbm xgboost lazypredict yellowbrick"
   ]
  },
  {
   "cell_type": "code",
   "execution_count": 11,
   "metadata": {
    "execution": {
     "iopub.execute_input": "2025-04-13T13:56:10.142118Z",
     "iopub.status.busy": "2025-04-13T13:56:10.141698Z",
     "iopub.status.idle": "2025-04-13T13:56:11.049362Z",
     "shell.execute_reply": "2025-04-13T13:56:11.048255Z",
     "shell.execute_reply.started": "2025-04-13T13:56:10.142087Z"
    },
    "trusted": true
   },
   "outputs": [],
   "source": [
    "from sklearn.model_selection import train_test_split, cross_validate,cross_val_score, GridSearchCV, StratifiedKFold\n",
    "\n",
    "import pandas as pd\n",
    "import numpy as np\n",
    "\n",
    "# Metrics\n",
    "from sklearn.metrics import make_scorer, precision_score, recall_score, f1_score, accuracy_score\n",
    "from sklearn.metrics import PrecisionRecallDisplay, average_precision_score, precision_recall_curve\n",
    "from sklearn.metrics import RocCurveDisplay, roc_auc_score, roc_curve, auc\n",
    "from sklearn.metrics import confusion_matrix, classification_report, ConfusionMatrixDisplay\n",
    "\n",
    "from yellowbrick.classifier import PrecisionRecallCurve, ClassPredictionError, ROCAUC\n",
    "from yellowbrick.regressor import ResidualsPlot, PredictionError\n",
    "\n",
    "import warnings\n",
    "warnings.filterwarnings('ignore', category=UserWarning)"
   ]
  },
  {
   "cell_type": "markdown",
   "metadata": {},
   "source": [
    "## Train | Test Split"
   ]
  },
  {
   "cell_type": "code",
   "execution_count": 23,
   "metadata": {
    "execution": {
     "iopub.execute_input": "2025-04-13T14:02:18.032267Z",
     "iopub.status.busy": "2025-04-13T14:02:18.031868Z",
     "iopub.status.idle": "2025-04-13T14:02:18.046083Z",
     "shell.execute_reply": "2025-04-13T14:02:18.045058Z",
     "shell.execute_reply.started": "2025-04-13T14:02:18.032238Z"
    },
    "trusted": true
   },
   "outputs": [
    {
     "name": "stdout",
     "output_type": "stream",
     "text": [
      "---------------------------------------------\n",
      "X_Train rows-columns:  (1082, 9)\n",
      "y_Train Target Feature rosw:  (1082,)\n",
      "X_Test Validation Data rows-columns:  (271, 9)\n",
      "---------------------------------------------\n",
      "Prediction Test Dataset rows-columns:  (271,)\n",
      "---------------------------------------------\n"
     ]
    }
   ],
   "source": [
    "#Splitting Data\n",
    "X = df.drop('result', axis = 1)\n",
    "y = df['result']\n",
    "X_train, X_test, y_train, y_test = train_test_split(X, y, \n",
    "                                                    test_size=0.2,\n",
    "                                                    stratify=y,\n",
    "                                                    random_state=42)\n",
    "\n",
    "\n",
    "print('---------------------------------------------')\n",
    "print(\"X_Train rows-columns: \", X_train.shape)\n",
    "print(\"y_Train Target Feature rosw: \", y_train.shape)\n",
    "print(\"X_Test Validation Data rows-columns: \", X_test.shape)\n",
    "print('---------------------------------------------')\n",
    "print(\"Prediction Test Dataset rows-columns: \", y_test.shape)\n",
    "print('---------------------------------------------')"
   ]
  },
  {
   "cell_type": "code",
   "execution_count": 24,
   "metadata": {
    "execution": {
     "iopub.execute_input": "2025-04-13T14:02:23.379759Z",
     "iopub.status.busy": "2025-04-13T14:02:23.379423Z",
     "iopub.status.idle": "2025-04-13T14:02:23.390197Z",
     "shell.execute_reply": "2025-04-13T14:02:23.389223Z",
     "shell.execute_reply.started": "2025-04-13T14:02:23.379730Z"
    },
    "trusted": true
   },
   "outputs": [
    {
     "data": {
      "text/html": [
       "<div>\n",
       "<style scoped>\n",
       "    .dataframe tbody tr th:only-of-type {\n",
       "        vertical-align: middle;\n",
       "    }\n",
       "\n",
       "    .dataframe tbody tr th {\n",
       "        vertical-align: top;\n",
       "    }\n",
       "\n",
       "    .dataframe thead th {\n",
       "        text-align: right;\n",
       "    }\n",
       "</style>\n",
       "<table border=\"1\" class=\"dataframe\">\n",
       "  <thead>\n",
       "    <tr style=\"text-align: right;\">\n",
       "      <th></th>\n",
       "      <th>sfh</th>\n",
       "      <th>popupwidnow</th>\n",
       "      <th>sslfinal_state</th>\n",
       "      <th>request_url</th>\n",
       "      <th>url_of_anchor</th>\n",
       "      <th>web_traffic</th>\n",
       "      <th>url_length</th>\n",
       "      <th>age_of_domain</th>\n",
       "      <th>having_ip_address</th>\n",
       "    </tr>\n",
       "  </thead>\n",
       "  <tbody>\n",
       "    <tr>\n",
       "      <th>856</th>\n",
       "      <td>1</td>\n",
       "      <td>-1</td>\n",
       "      <td>0</td>\n",
       "      <td>1</td>\n",
       "      <td>1</td>\n",
       "      <td>0</td>\n",
       "      <td>-1</td>\n",
       "      <td>1</td>\n",
       "      <td>0</td>\n",
       "    </tr>\n",
       "    <tr>\n",
       "      <th>1297</th>\n",
       "      <td>1</td>\n",
       "      <td>0</td>\n",
       "      <td>1</td>\n",
       "      <td>-1</td>\n",
       "      <td>1</td>\n",
       "      <td>0</td>\n",
       "      <td>1</td>\n",
       "      <td>-1</td>\n",
       "      <td>0</td>\n",
       "    </tr>\n",
       "    <tr>\n",
       "      <th>1296</th>\n",
       "      <td>1</td>\n",
       "      <td>0</td>\n",
       "      <td>-1</td>\n",
       "      <td>1</td>\n",
       "      <td>1</td>\n",
       "      <td>1</td>\n",
       "      <td>1</td>\n",
       "      <td>-1</td>\n",
       "      <td>0</td>\n",
       "    </tr>\n",
       "  </tbody>\n",
       "</table>\n",
       "</div>"
      ],
      "text/plain": [
       "      sfh  popupwidnow  sslfinal_state  request_url  url_of_anchor  \\\n",
       "856     1           -1               0            1              1   \n",
       "1297    1            0               1           -1              1   \n",
       "1296    1            0              -1            1              1   \n",
       "\n",
       "      web_traffic  url_length  age_of_domain  having_ip_address  \n",
       "856             0          -1              1                  0  \n",
       "1297            0           1             -1                  0  \n",
       "1296            1           1             -1                  0  "
      ]
     },
     "execution_count": 24,
     "metadata": {},
     "output_type": "execute_result"
    }
   ],
   "source": [
    "X_train.head(3)"
   ]
  },
  {
   "cell_type": "code",
   "execution_count": 25,
   "metadata": {
    "execution": {
     "iopub.execute_input": "2025-04-13T14:02:25.246664Z",
     "iopub.status.busy": "2025-04-13T14:02:25.246319Z",
     "iopub.status.idle": "2025-04-13T14:02:25.257636Z",
     "shell.execute_reply": "2025-04-13T14:02:25.256295Z",
     "shell.execute_reply.started": "2025-04-13T14:02:25.246637Z"
    },
    "trusted": true
   },
   "outputs": [
    {
     "data": {
      "text/html": [
       "<div>\n",
       "<style scoped>\n",
       "    .dataframe tbody tr th:only-of-type {\n",
       "        vertical-align: middle;\n",
       "    }\n",
       "\n",
       "    .dataframe tbody tr th {\n",
       "        vertical-align: top;\n",
       "    }\n",
       "\n",
       "    .dataframe thead th {\n",
       "        text-align: right;\n",
       "    }\n",
       "</style>\n",
       "<table border=\"1\" class=\"dataframe\">\n",
       "  <thead>\n",
       "    <tr style=\"text-align: right;\">\n",
       "      <th></th>\n",
       "      <th>sfh</th>\n",
       "      <th>popupwidnow</th>\n",
       "      <th>sslfinal_state</th>\n",
       "      <th>request_url</th>\n",
       "      <th>url_of_anchor</th>\n",
       "      <th>web_traffic</th>\n",
       "      <th>url_length</th>\n",
       "      <th>age_of_domain</th>\n",
       "      <th>having_ip_address</th>\n",
       "    </tr>\n",
       "  </thead>\n",
       "  <tbody>\n",
       "    <tr>\n",
       "      <th>673</th>\n",
       "      <td>1</td>\n",
       "      <td>0</td>\n",
       "      <td>1</td>\n",
       "      <td>1</td>\n",
       "      <td>1</td>\n",
       "      <td>1</td>\n",
       "      <td>1</td>\n",
       "      <td>1</td>\n",
       "      <td>1</td>\n",
       "    </tr>\n",
       "    <tr>\n",
       "      <th>552</th>\n",
       "      <td>1</td>\n",
       "      <td>0</td>\n",
       "      <td>1</td>\n",
       "      <td>-1</td>\n",
       "      <td>1</td>\n",
       "      <td>0</td>\n",
       "      <td>0</td>\n",
       "      <td>-1</td>\n",
       "      <td>0</td>\n",
       "    </tr>\n",
       "    <tr>\n",
       "      <th>226</th>\n",
       "      <td>1</td>\n",
       "      <td>1</td>\n",
       "      <td>1</td>\n",
       "      <td>-1</td>\n",
       "      <td>-1</td>\n",
       "      <td>-1</td>\n",
       "      <td>1</td>\n",
       "      <td>1</td>\n",
       "      <td>0</td>\n",
       "    </tr>\n",
       "  </tbody>\n",
       "</table>\n",
       "</div>"
      ],
      "text/plain": [
       "     sfh  popupwidnow  sslfinal_state  request_url  url_of_anchor  \\\n",
       "673    1            0               1            1              1   \n",
       "552    1            0               1           -1              1   \n",
       "226    1            1               1           -1             -1   \n",
       "\n",
       "     web_traffic  url_length  age_of_domain  having_ip_address  \n",
       "673            1           1              1                  1  \n",
       "552            0           0             -1                  0  \n",
       "226           -1           1              1                  0  "
      ]
     },
     "execution_count": 25,
     "metadata": {},
     "output_type": "execute_result"
    }
   ],
   "source": [
    "X_test.head(3)"
   ]
  },
  {
   "cell_type": "code",
   "execution_count": 26,
   "metadata": {
    "execution": {
     "iopub.execute_input": "2025-04-13T14:02:28.633334Z",
     "iopub.status.busy": "2025-04-13T14:02:28.633014Z",
     "iopub.status.idle": "2025-04-13T14:02:28.641290Z",
     "shell.execute_reply": "2025-04-13T14:02:28.640088Z",
     "shell.execute_reply.started": "2025-04-13T14:02:28.633312Z"
    },
    "trusted": true
   },
   "outputs": [],
   "source": [
    "# User-Defined-Functions\n",
    "\n",
    "#-----------------------------------------------------\n",
    "\n",
    "# Function to Evaluate the Model Performans using Classification Confusion_matrix() \n",
    "# Also does the prediction in the function\n",
    "\n",
    "def eval_metric(model, X_train, y_train, X_test, y_test, i):\n",
    "\n",
    "    \"\"\" to get the metrics for the model \"\"\"\n",
    "\n",
    "    y_train_pred = model.predict(X_train)\n",
    "    y_pred = model.predict(X_test)\n",
    "    \n",
    "    print(f\"{i} Test_Set\")\n",
    "    print(confusion_matrix(y_test, y_pred))\n",
    "    print(classification_report(y_test, y_pred))\n",
    "    print()\n",
    "    print(f\"{i} Train_Set\")\n",
    "    print(confusion_matrix(y_train, y_train_pred))\n",
    "    print(classification_report(y_train, y_train_pred))\n",
    "    \n",
    "# -----------------------------------------------------\n",
    "\n",
    "# Function to display Feature Importance\n",
    "def plot_feature_importance(model, X_train, model_name, figsize=(8, 5)):\n",
    "    \"\"\"\n",
    "    Plots the feature importances of a fitted model as a horizontal bar plot,\n",
    "    with the importance values displayed next to the bars.\n",
    "    \"\"\"\n",
    "    # Get feature importances\n",
    "    feature_importances = model.feature_importances_\n",
    "    \n",
    "    # Create a Series for feature importances\n",
    "    feats = pd.Series(data=feature_importances, index=X_train.columns).sort_values(ascending=False)\n",
    "    \n",
    "    # Plot the feature importances as a horizontal bar plot\n",
    "    plt.figure(figsize=figsize)\n",
    "    sns.barplot(y=feats.index, x=feats.values, orient='h', palette='Blues')\n",
    "\n",
    "    # Add the importance values next to the bars\n",
    "    for index, value in enumerate(feats.values):\n",
    "        plt.text(value, index, f'{value:.2f}', va='center', fontsize=10)\n",
    "\n",
    "    # Add model name to the plot title\n",
    "    plt.title(f\"Feature Importances - {model_name}\")\n",
    "    plt.xlabel(\"Importance\")\n",
    "    plt.ylabel(\"Features\")\n",
    "    plt.show()"
   ]
  },
  {
   "cell_type": "markdown",
   "metadata": {},
   "source": [
    "## RandomForest Model"
   ]
  },
  {
   "cell_type": "code",
   "execution_count": 27,
   "metadata": {
    "execution": {
     "iopub.execute_input": "2025-04-13T14:02:33.422727Z",
     "iopub.status.busy": "2025-04-13T14:02:33.422402Z",
     "iopub.status.idle": "2025-04-13T14:03:33.097584Z",
     "shell.execute_reply": "2025-04-13T14:03:33.096577Z",
     "shell.execute_reply.started": "2025-04-13T14:02:33.422702Z"
    },
    "trusted": true
   },
   "outputs": [
    {
     "name": "stdout",
     "output_type": "stream",
     "text": [
      "Fitting 5 folds for each of 192 candidates, totalling 960 fits\n"
     ]
    }
   ],
   "source": [
    "from sklearn.ensemble import RandomForestClassifier\n",
    "\n",
    "# RF Hyperparameters Tuning with GridSearchSV \n",
    "\n",
    "# Reset the model\n",
    "model = RandomForestClassifier(random_state=42)\n",
    "\n",
    "\n",
    "param_grid = {           \n",
    "            'n_estimators': [50,100],  \n",
    "            'max_depth': [None, 2, 10],\n",
    "            'min_samples_split': [5, 10],\n",
    "            'min_samples_leaf': [2,5],\n",
    "            'max_features': ['sqrt', 'log2'],\n",
    "            'max_samples':[0.5, 0.9],\n",
    "            \"criterion\": [\"gini\", \"entropy\"]\n",
    "             }\n",
    "             \n",
    "\n",
    "\n",
    "cv = StratifiedKFold(n_splits=5)\n",
    "\n",
    "# GridSearchCV\n",
    "RFC_grid_model = GridSearchCV(model,\n",
    "                          param_grid=param_grid,\n",
    "                          cv=cv,\n",
    "                          scoring=\"accuracy\",  \n",
    "                          n_jobs=4,          # Use all available cores\n",
    "                          verbose=1,\n",
    "                          return_train_score=True).fit(X_train, y_train) # Fit the grid search model"
   ]
  },
  {
   "cell_type": "code",
   "execution_count": 28,
   "metadata": {
    "execution": {
     "iopub.execute_input": "2025-04-13T14:04:10.771840Z",
     "iopub.status.busy": "2025-04-13T14:04:10.771516Z",
     "iopub.status.idle": "2025-04-13T14:04:10.784442Z",
     "shell.execute_reply": "2025-04-13T14:04:10.783649Z",
     "shell.execute_reply.started": "2025-04-13T14:04:10.771817Z"
    },
    "trusted": true
   },
   "outputs": [
    {
     "name": "stdout",
     "output_type": "stream",
     "text": [
      "Best Params: {'criterion': 'entropy', 'max_depth': None, 'max_features': 'sqrt', 'max_samples': 0.9, 'min_samples_leaf': 2, 'min_samples_split': 10, 'n_estimators': 100}\n",
      "Best Recall Score(test): 0.9158986175115207\n",
      "-----------------------------------------------------\n"
     ]
    },
    {
     "data": {
      "text/plain": [
       "mean_test_score     0.915899\n",
       "mean_train_score    0.942005\n",
       "Name: 107, dtype: object"
      ]
     },
     "execution_count": 28,
     "metadata": {},
     "output_type": "execute_result"
    }
   ],
   "source": [
    "rfc_best_params = RFC_grid_model.best_params_\n",
    "rfc_best_scores = RFC_grid_model.best_score_\n",
    "print('Best Params:', rfc_best_params)\n",
    "print('Best Recall Score(test):', rfc_best_scores)\n",
    "print('-----------------------------------------------------')\n",
    "\n",
    "# Checking overfiting of Grid Model with the CV scores\n",
    "pd.DataFrame(RFC_grid_model.cv_results_).loc[RFC_grid_model.best_index_, [\"mean_test_score\", \"mean_train_score\"]]"
   ]
  },
  {
   "cell_type": "markdown",
   "metadata": {},
   "source": [
    "### Prediction with Best HyperParameters"
   ]
  },
  {
   "cell_type": "code",
   "execution_count": 29,
   "metadata": {
    "execution": {
     "iopub.execute_input": "2025-04-13T14:04:17.087176Z",
     "iopub.status.busy": "2025-04-13T14:04:17.086775Z",
     "iopub.status.idle": "2025-04-13T14:04:17.272232Z",
     "shell.execute_reply": "2025-04-13T14:04:17.271176Z",
     "shell.execute_reply.started": "2025-04-13T14:04:17.087148Z"
    },
    "trusted": true
   },
   "outputs": [
    {
     "data": {
      "text/html": [
       "<style>#sk-container-id-2 {color: black;background-color: white;}#sk-container-id-2 pre{padding: 0;}#sk-container-id-2 div.sk-toggleable {background-color: white;}#sk-container-id-2 label.sk-toggleable__label {cursor: pointer;display: block;width: 100%;margin-bottom: 0;padding: 0.3em;box-sizing: border-box;text-align: center;}#sk-container-id-2 label.sk-toggleable__label-arrow:before {content: \"▸\";float: left;margin-right: 0.25em;color: #696969;}#sk-container-id-2 label.sk-toggleable__label-arrow:hover:before {color: black;}#sk-container-id-2 div.sk-estimator:hover label.sk-toggleable__label-arrow:before {color: black;}#sk-container-id-2 div.sk-toggleable__content {max-height: 0;max-width: 0;overflow: hidden;text-align: left;background-color: #f0f8ff;}#sk-container-id-2 div.sk-toggleable__content pre {margin: 0.2em;color: black;border-radius: 0.25em;background-color: #f0f8ff;}#sk-container-id-2 input.sk-toggleable__control:checked~div.sk-toggleable__content {max-height: 200px;max-width: 100%;overflow: auto;}#sk-container-id-2 input.sk-toggleable__control:checked~label.sk-toggleable__label-arrow:before {content: \"▾\";}#sk-container-id-2 div.sk-estimator input.sk-toggleable__control:checked~label.sk-toggleable__label {background-color: #d4ebff;}#sk-container-id-2 div.sk-label input.sk-toggleable__control:checked~label.sk-toggleable__label {background-color: #d4ebff;}#sk-container-id-2 input.sk-hidden--visually {border: 0;clip: rect(1px 1px 1px 1px);clip: rect(1px, 1px, 1px, 1px);height: 1px;margin: -1px;overflow: hidden;padding: 0;position: absolute;width: 1px;}#sk-container-id-2 div.sk-estimator {font-family: monospace;background-color: #f0f8ff;border: 1px dotted black;border-radius: 0.25em;box-sizing: border-box;margin-bottom: 0.5em;}#sk-container-id-2 div.sk-estimator:hover {background-color: #d4ebff;}#sk-container-id-2 div.sk-parallel-item::after {content: \"\";width: 100%;border-bottom: 1px solid gray;flex-grow: 1;}#sk-container-id-2 div.sk-label:hover label.sk-toggleable__label {background-color: #d4ebff;}#sk-container-id-2 div.sk-serial::before {content: \"\";position: absolute;border-left: 1px solid gray;box-sizing: border-box;top: 0;bottom: 0;left: 50%;z-index: 0;}#sk-container-id-2 div.sk-serial {display: flex;flex-direction: column;align-items: center;background-color: white;padding-right: 0.2em;padding-left: 0.2em;position: relative;}#sk-container-id-2 div.sk-item {position: relative;z-index: 1;}#sk-container-id-2 div.sk-parallel {display: flex;align-items: stretch;justify-content: center;background-color: white;position: relative;}#sk-container-id-2 div.sk-item::before, #sk-container-id-2 div.sk-parallel-item::before {content: \"\";position: absolute;border-left: 1px solid gray;box-sizing: border-box;top: 0;bottom: 0;left: 50%;z-index: -1;}#sk-container-id-2 div.sk-parallel-item {display: flex;flex-direction: column;z-index: 1;position: relative;background-color: white;}#sk-container-id-2 div.sk-parallel-item:first-child::after {align-self: flex-end;width: 50%;}#sk-container-id-2 div.sk-parallel-item:last-child::after {align-self: flex-start;width: 50%;}#sk-container-id-2 div.sk-parallel-item:only-child::after {width: 0;}#sk-container-id-2 div.sk-dashed-wrapped {border: 1px dashed gray;margin: 0 0.4em 0.5em 0.4em;box-sizing: border-box;padding-bottom: 0.4em;background-color: white;}#sk-container-id-2 div.sk-label label {font-family: monospace;font-weight: bold;display: inline-block;line-height: 1.2em;}#sk-container-id-2 div.sk-label-container {text-align: center;}#sk-container-id-2 div.sk-container {/* jupyter's `normalize.less` sets `[hidden] { display: none; }` but bootstrap.min.css set `[hidden] { display: none !important; }` so we also need the `!important` here to be able to override the default hidden behavior on the sphinx rendered scikit-learn.org. See: https://github.com/scikit-learn/scikit-learn/issues/21755 */display: inline-block !important;position: relative;}#sk-container-id-2 div.sk-text-repr-fallback {display: none;}</style><div id=\"sk-container-id-2\" class=\"sk-top-container\"><div class=\"sk-text-repr-fallback\"><pre>RandomForestClassifier(criterion=&#x27;entropy&#x27;, max_samples=0.9, min_samples_leaf=2,\n",
       "                       min_samples_split=10, random_state=42)</pre><b>In a Jupyter environment, please rerun this cell to show the HTML representation or trust the notebook. <br />On GitHub, the HTML representation is unable to render, please try loading this page with nbviewer.org.</b></div><div class=\"sk-container\" hidden><div class=\"sk-item\"><div class=\"sk-estimator sk-toggleable\"><input class=\"sk-toggleable__control sk-hidden--visually\" id=\"sk-estimator-id-2\" type=\"checkbox\" checked><label for=\"sk-estimator-id-2\" class=\"sk-toggleable__label sk-toggleable__label-arrow\">RandomForestClassifier</label><div class=\"sk-toggleable__content\"><pre>RandomForestClassifier(criterion=&#x27;entropy&#x27;, max_samples=0.9, min_samples_leaf=2,\n",
       "                       min_samples_split=10, random_state=42)</pre></div></div></div></div></div>"
      ],
      "text/plain": [
       "RandomForestClassifier(criterion='entropy', max_samples=0.9, min_samples_leaf=2,\n",
       "                       min_samples_split=10, random_state=42)"
      ]
     },
     "execution_count": 29,
     "metadata": {},
     "output_type": "execute_result"
    }
   ],
   "source": [
    "# Create a new model with the best parameters from GridSearchCV\n",
    "RFC_best_model  = RandomForestClassifier(\n",
    "    **rfc_best_params,  # Unpack the best parameters dictionary\n",
    "    random_state=42,\n",
    "    #verbose=1\n",
    ")\n",
    "\n",
    "# Fit the model on the training data\n",
    "RFC_best_model.fit(X_train, y_train)"
   ]
  },
  {
   "cell_type": "code",
   "execution_count": 30,
   "metadata": {
    "execution": {
     "iopub.execute_input": "2025-04-13T14:04:21.732042Z",
     "iopub.status.busy": "2025-04-13T14:04:21.731672Z",
     "iopub.status.idle": "2025-04-13T14:04:21.756988Z",
     "shell.execute_reply": "2025-04-13T14:04:21.756084Z",
     "shell.execute_reply.started": "2025-04-13T14:04:21.732009Z"
    },
    "trusted": true
   },
   "outputs": [
    {
     "name": "stdout",
     "output_type": "stream",
     "text": [
      "RFC_best_model_accuracy score with the Test prediction:  0.915129151291513 \n",
      "\n",
      "              precision    recall  f1-score   support\n",
      "\n",
      "    Phishing       0.94      0.91      0.93       161\n",
      "  Legitamite       0.88      0.92      0.90       110\n",
      "\n",
      "    accuracy                           0.92       271\n",
      "   macro avg       0.91      0.92      0.91       271\n",
      "weighted avg       0.92      0.92      0.92       271\n",
      "\n"
     ]
    }
   ],
   "source": [
    "# Make predictions on test data\n",
    "y_pred = RFC_best_model.predict(X_test)\n",
    "\n",
    "# Evaluate the model\n",
    "RFC_best_acc = accuracy_score(y_test, y_pred)\n",
    "print('RFC_best_model_accuracy score with the Test prediction: ',RFC_best_acc, '\\n')\n",
    "\n",
    "target_names = ['Phishing', 'Legitamite']\n",
    "print(classification_report(y_test, y_pred, target_names=target_names))"
   ]
  },
  {
   "cell_type": "code",
   "execution_count": 31,
   "metadata": {
    "execution": {
     "iopub.execute_input": "2025-04-13T14:04:26.764620Z",
     "iopub.status.busy": "2025-04-13T14:04:26.764300Z",
     "iopub.status.idle": "2025-04-13T14:04:27.011295Z",
     "shell.execute_reply": "2025-04-13T14:04:27.010053Z",
     "shell.execute_reply.started": "2025-04-13T14:04:26.764596Z"
    },
    "trusted": true
   },
   "outputs": [
    {
     "data": {
      "image/png": "[encoded data removed]",
      "text/plain": [
       "<Figure size 800x500 with 1 Axes>"
      ]
     },
     "metadata": {},
     "output_type": "display_data"
    }
   ],
   "source": [
    "# Feature Importance\n",
    "plot_feature_importance(RFC_best_model, X_test, 'RFC_best_model')"
   ]
  },
  {
   "cell_type": "code",
   "execution_count": null,
   "metadata": {
    "execution": {
     "iopub.execute_input": "2025-04-13T12:08:48.173753Z",
     "iopub.status.busy": "2025-04-13T12:08:48.173398Z",
     "iopub.status.idle": "2025-04-13T12:08:48.226271Z",
     "shell.execute_reply": "2025-04-13T12:08:48.225137Z",
     "shell.execute_reply.started": "2025-04-13T12:08:48.173726Z"
    },
    "trusted": true
   },
   "outputs": [],
   "source": [
    "# Save model\n",
    "\n",
    "# import joblib\n",
    "\n",
    "# joblib.dump(RFC_best_model, 'RFC_best_model.joblib')\n",
    "# print(\"Model saved successfully\")"
   ]
  },
  {
   "cell_type": "code",
   "execution_count": 32,
   "metadata": {
    "execution": {
     "iopub.execute_input": "2025-04-13T14:04:34.255954Z",
     "iopub.status.busy": "2025-04-13T14:04:34.255584Z",
     "iopub.status.idle": "2025-04-13T14:04:34.261018Z",
     "shell.execute_reply": "2025-04-13T14:04:34.260101Z",
     "shell.execute_reply.started": "2025-04-13T14:04:34.255926Z"
    },
    "trusted": true
   },
   "outputs": [],
   "source": [
    "# Save model\n",
    "\n",
    "import pickle\n",
    "with open('RFC_best_model.pkl', 'wb') as f:\n",
    "    pickle.dump(model, f)"
   ]
  },
  {
   "cell_type": "code",
   "execution_count": 37,
   "metadata": {
    "execution": {
     "iopub.execute_input": "2025-04-13T14:05:24.871701Z",
     "iopub.status.busy": "2025-04-13T14:05:24.871388Z",
     "iopub.status.idle": "2025-04-13T14:05:25.324759Z",
     "shell.execute_reply": "2025-04-13T14:05:25.323849Z",
     "shell.execute_reply.started": "2025-04-13T14:05:24.871678Z"
    },
    "trusted": true
   },
   "outputs": [
    {
     "data": {
      "image/png": "[encoded data removed]",
      "text/plain": [
       "<Figure size 600x400 with 1 Axes>"
      ]
     },
     "metadata": {},
     "output_type": "display_data"
    },
    {
     "data": {
      "text/plain": [
       "<sklearn.metrics._plot.confusion_matrix.ConfusionMatrixDisplay at 0x7e1dd348a3e0>"
      ]
     },
     "execution_count": 37,
     "metadata": {},
     "output_type": "execute_result"
    },
    {
     "data": {
      "image/png": "[encoded data removed]",
      "text/plain": [
       "<Figure size 800x550 with 2 Axes>"
      ]
     },
     "metadata": {},
     "output_type": "display_data"
    }
   ],
   "source": [
    "# Precision-Recall Curve\n",
    "plt.figure(figsize=(6, 4))\n",
    "viz = PrecisionRecallCurve(RFC_best_model)\n",
    "viz.fit(X_train, y_train)\n",
    "viz.score(X_test, y_test)\n",
    "viz.show()\n",
    "\n",
    "# Confusion Matrix\n",
    "ConfusionMatrixDisplay.from_estimator(RFC_best_model, X_test, y_test, cmap='Blues')"
   ]
  },
  {
   "cell_type": "markdown",
   "metadata": {},
   "source": [
    "# Conclusion\n",
    "\n",
    "RandomForestClassifier model performance:\n",
    "\n",
    "- RFC model shows strong performance in classifying phishing versus legitimate cases:\n",
    "\n",
    "    - **Accuracy**: 91.5% accuracy on the test set, meaning the model correctly classified about 9 out of 10 samples overall.\n",
    "    - **Phishing Detection**: 94% precision and 91% recall for phishing cases. This means when the model predicts something is phishing, it's right 94% of the time, and it catches 91% of all actual phishing instances.\n",
    "    - **Legitimate Classification**: 88% precision and 92% recall for legitimate cases. The model is slightly better at identifying legitimate cases (higher recall) than being confident about them (lower precision).\n",
    "    - **Precision-Recall Curve**: The first image shows an excellent PR curve with an average precision of 0.97. The curve remains high across different recall thresholds, dropping only at very high recall values.\n",
    "    - **Confusion Matrix**: The second image confirms excellent performance with 147 true negatives and 101 true positives. There are only 14 false positives and 9 false negatives.\n",
    "\n",
    "In summary, this model performs very well for phishing detection with balanced precision and recall, making it reliable for practical application."
   ]
  },
  {
   "cell_type": "markdown",
   "metadata": {},
   "source": []
  }
 ],
 "metadata": {
  "kaggle": {
   "accelerator": "none",
   "dataSources": [
    {
     "datasetId": 183622,
     "sourceId": 411922,
     "sourceType": "datasetVersion"
    }
   ],
   "dockerImageVersionId": 30918,
   "isGpuEnabled": false,
   "isInternetEnabled": true,
   "language": "python",
   "sourceType": "notebook"
  },
  "kernelspec": {
   "display_name": "Python 3",
   "language": "python",
   "name": "python3"
  },
  "language_info": {
   "codemirror_mode": {
    "name": "ipython",
    "version": 3
   },
   "file_extension": ".py",
   "mimetype": "text/x-python",
   "name": "python",
   "nbconvert_exporter": "python",
   "pygments_lexer": "ipython3",
   "version": "3.10.12"
  }
 },
 "nbformat": 4,
 "nbformat_minor": 4
}
